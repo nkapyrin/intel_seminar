{
  "nbformat": 4,
  "nbformat_minor": 0,
  "metadata": {
    "colab": {
      "name": "dog-vs-cat-classification-using-pytorch.ipynb",
      "version": "0.3.2",
      "provenance": [],
      "collapsed_sections": []
    },
    "language_info": {
      "codemirror_mode": {
        "name": "ipython",
        "version": 3
      },
      "file_extension": ".py",
      "mimetype": "text/x-python",
      "name": "python",
      "nbconvert_exporter": "python",
      "pygments_lexer": "ipython3",
      "version": "3.5.2"
    },
    "kernelspec": {
      "display_name": "Python 3",
      "language": "python",
      "name": "python3"
    }
  },
  "cells": [
    {
      "metadata": {
        "id": "acAyx_JXaa-M",
        "colab_type": "text"
      },
      "cell_type": "markdown",
      "source": [
        "# Семинар по свёрточным нейросетям\n",
        "\n",
        "## Скачать и распаковать датасет"
      ]
    },
    {
      "metadata": {
        "id": "HEmPRH-n6rQj",
        "colab_type": "text"
      },
      "cell_type": "markdown",
      "source": [
        "Выполните эти ячейки чтобы скачать и отсортировать датасет"
      ]
    },
    {
      "metadata": {
        "id": "5wt8yMM4aa-P",
        "colab_type": "code",
        "colab": {}
      },
      "cell_type": "code",
      "source": [
        "import shutil\n",
        "import re\n",
        "import os"
      ],
      "execution_count": 0,
      "outputs": []
    },
    {
      "metadata": {
        "id": "lKVi8cAjazgT",
        "colab_type": "code",
        "colab": {}
      },
      "cell_type": "code",
      "source": [
        "#!wget -c https://s3.amazonaws.com/content.udacity-data.com/nd089/Cat_Dog_data.zip\n",
        "#!unzip -qq Cat_Dog_data.zip"
      ],
      "execution_count": 0,
      "outputs": []
    },
    {
      "metadata": {
        "id": "l9DH38m9bTnW",
        "colab_type": "code",
        "outputId": "e3cd9108-9735-4890-8d04-6dc34b84fd8a",
        "colab": {
          "base_uri": "https://localhost:8080/",
          "height": 214
        }
      },
      "cell_type": "code",
      "source": [
        "!pip install kaggle\n",
        "!echo '{\"username\":\"you_name\",\"key\":\"1234567\"}' > ~/.kaggle/kaggle.json\n",
        "!chmod 600 /root/.kaggle/kaggle.json"
      ],
      "execution_count": 0,
      "outputs": [
        {
          "output_type": "stream",
          "text": [
            "Requirement already satisfied: kaggle in /usr/local/lib/python3.6/dist-packages (1.5.3)\n",
            "Requirement already satisfied: urllib3<1.25,>=1.21.1 in /usr/local/lib/python3.6/dist-packages (from kaggle) (1.24.2)\n",
            "Requirement already satisfied: six>=1.10 in /usr/local/lib/python3.6/dist-packages (from kaggle) (1.12.0)\n",
            "Requirement already satisfied: certifi in /usr/local/lib/python3.6/dist-packages (from kaggle) (2019.3.9)\n",
            "Requirement already satisfied: python-dateutil in /usr/local/lib/python3.6/dist-packages (from kaggle) (2.5.3)\n",
            "Requirement already satisfied: requests in /usr/local/lib/python3.6/dist-packages (from kaggle) (2.21.0)\n",
            "Requirement already satisfied: tqdm in /usr/local/lib/python3.6/dist-packages (from kaggle) (4.28.1)\n",
            "Requirement already satisfied: python-slugify in /usr/local/lib/python3.6/dist-packages (from kaggle) (3.0.2)\n",
            "Requirement already satisfied: chardet<3.1.0,>=3.0.2 in /usr/local/lib/python3.6/dist-packages (from requests->kaggle) (3.0.4)\n",
            "Requirement already satisfied: idna<2.9,>=2.5 in /usr/local/lib/python3.6/dist-packages (from requests->kaggle) (2.8)\n",
            "Requirement already satisfied: text-unidecode==1.2 in /usr/local/lib/python3.6/dist-packages (from python-slugify->kaggle) (1.2)\n"
          ],
          "name": "stdout"
        }
      ]
    },
    {
      "metadata": {
        "id": "q2SrAcxsbPry",
        "colab_type": "code",
        "outputId": "e9ef913e-467a-4b03-e692-b4eb90d0983c",
        "colab": {
          "base_uri": "https://localhost:8080/",
          "height": 178
        }
      },
      "cell_type": "code",
      "source": [
        "!kaggle competitions download -c dogs-vs-cats"
      ],
      "execution_count": 0,
      "outputs": [
        {
          "output_type": "stream",
          "text": [
            "Downloading sampleSubmission.csv to /content\n",
            "\r  0% 0.00/86.8k [00:00<?, ?B/s]\n",
            "100% 86.8k/86.8k [00:00<00:00, 74.8MB/s]\n",
            "Downloading test1.zip to /content\n",
            " 98% 265M/271M [00:02<00:00, 118MB/s]\n",
            "100% 271M/271M [00:02<00:00, 110MB/s]\n",
            "Downloading train.zip to /content\n",
            "100% 543M/543M [00:06<00:00, 88.1MB/s]\n",
            "\n"
          ],
          "name": "stdout"
        }
      ]
    },
    {
      "metadata": {
        "id": "sGy8n-8ldl7q",
        "colab_type": "code",
        "colab": {}
      },
      "cell_type": "code",
      "source": [
        "!unzip -qq ./train.zip -d ./data"
      ],
      "execution_count": 0,
      "outputs": []
    },
    {
      "metadata": {
        "id": "ekAAB7rucuLV",
        "colab_type": "code",
        "colab": {}
      },
      "cell_type": "code",
      "source": [
        "!mkdir -p ./data/train\n",
        "!mkdir -p ./data/val\n",
        "!mkdir -p ./data/train/cats\n",
        "!mkdir -p ./data/train/dogs\n",
        "!mkdir -p ./data/val/dogs\n",
        "!mkdir -p ./data/val/cats"
      ],
      "execution_count": 0,
      "outputs": []
    },
    {
      "metadata": {
        "id": "HkKzaYVKaa-W",
        "colab_type": "code",
        "colab": {}
      },
      "cell_type": "code",
      "source": [
        "import os, re, shutil\n",
        "input_dir = \"./data/train\"\n",
        "files = os.listdir(input_dir)\n",
        "train_cats_dir = \"./data/train/cats\"\n",
        "train_dogs_dir = \"./data/train/dogs\"\n",
        "val_cats_dir = \"./data/val/cats\"\n",
        "val_dogs_dir = \"./data/val/dogs\"\n",
        "\n",
        "# Move all train cat images to cats folder, dog images to dogs folder\n",
        "for f in files:\n",
        "    catSearchObj = re.search(\"cat\", f)\n",
        "    dogSearchObj = re.search(\"dog\", f)\n",
        "    if catSearchObj:\n",
        "        shutil.move( input_dir + '/' + f, train_cats_dir)\n",
        "    elif dogSearchObj:\n",
        "        shutil.move(input_dir + '/' + f, train_dogs_dir)"
      ],
      "execution_count": 0,
      "outputs": []
    },
    {
      "metadata": {
        "id": "1vj99jDvaa-c",
        "colab_type": "code",
        "colab": {}
      },
      "cell_type": "code",
      "source": [
        "files = os.listdir(train_dogs_dir)\n",
        "\n",
        "for f in files:\n",
        "    validationDogsSearchObj = re.search(\"5\\d\\d\\d\", f)\n",
        "    if validationDogsSearchObj:\n",
        "        shutil.move(train_dogs_dir + '/' + f, val_dogs_dir)\n",
        "\n",
        "files = os.listdir(train_cats_dir)\n",
        "\n",
        "for f in files:\n",
        "    validationCatsSearchObj = re.search(\"5\\d\\d\\d\", f)\n",
        "    if validationCatsSearchObj:\n",
        "        shutil.move(train_cats_dir + '/' + f, val_cats_dir)"
      ],
      "execution_count": 0,
      "outputs": []
    },
    {
      "metadata": {
        "id": "qLx6qNO46dfw",
        "colab_type": "text"
      },
      "cell_type": "markdown",
      "source": [
        "Если бы мы отправляли решение на проверку в kaggle, нам нужно было бы распаковать и тестовые образцы тоже, и написать немного кода: см. https://medium.com/predict/using-pytorch-for-kaggles-famous-dogs-vs-cats-challenge-part-2-inferencing-and-submitting-b5810b4dda96"
      ]
    },
    {
      "metadata": {
        "id": "rGiyzjAfaa-j",
        "colab_type": "code",
        "colab": {}
      },
      "cell_type": "code",
      "source": [
        "# !mv ../input/dogs-vs-cats-for-pytorch/test1/* ./data/test"
      ],
      "execution_count": 0,
      "outputs": []
    },
    {
      "metadata": {
        "id": "XELHjY946V1I",
        "colab_type": "text"
      },
      "cell_type": "markdown",
      "source": [
        "Если вы не зарегистрированы в kaggle, можно скачать датасет,  например, с udacity"
      ]
    },
    {
      "metadata": {
        "id": "N3TBeGxxeO2s",
        "colab_type": "code",
        "colab": {}
      },
      "cell_type": "code",
      "source": [
        "#!wget -c https://s3.amazonaws.com/content.udacity-data.com/nd089/Cat_Dog_data.zip\n",
        "#!unzip -qq Cat_Dog_data.zip"
      ],
      "execution_count": 0,
      "outputs": []
    },
    {
      "metadata": {
        "id": "krAotU3Taa-n",
        "colab_type": "text"
      },
      "cell_type": "markdown",
      "source": [
        "# Функции для загрузки, подготовки и аугментации данных"
      ]
    },
    {
      "metadata": {
        "id": "7WddrG7kaa-o",
        "colab_type": "text"
      },
      "cell_type": "markdown",
      "source": [
        "Позаимствовано с https://medium.com/predict/using-pytorch-for-kaggles-famous-dogs-vs-cats-challenge-part-1-preprocessing-and-training-407017e1a10c"
      ]
    },
    {
      "metadata": {
        "_cell_guid": "b1076dfc-b9ad-4769-8c92-a6c4dae69d19",
        "_uuid": "8f2839f25d086af736a60e9eeb907d3b93b6e0e5",
        "id": "itTF71Mfaa-q",
        "colab_type": "code",
        "outputId": "b4ac9451-3e3a-43d5-bcfc-d2ab0a416799",
        "colab": {
          "base_uri": "https://localhost:8080/",
          "height": 35
        }
      },
      "cell_type": "code",
      "source": [
        "import torch\n",
        "import torch.nn as nn\n",
        "import torch.optim as optim\n",
        "from torch.optim import lr_scheduler\n",
        "import numpy as np\n",
        "import torchvision\n",
        "from torchvision import datasets, models, transforms\n",
        "import matplotlib.pyplot as plt\n",
        "import time, math, copy\n",
        "\n",
        "print(torch.__version__)\n",
        "plt.ion()   # interactive mode"
      ],
      "execution_count": 0,
      "outputs": [
        {
          "output_type": "stream",
          "text": [
            "1.0.1.post2\n"
          ],
          "name": "stdout"
        }
      ]
    },
    {
      "metadata": {
        "id": "nviF-S1raa-w",
        "colab_type": "code",
        "colab": {}
      },
      "cell_type": "code",
      "source": [
        "# Data augmentation and normalization for training\n",
        "# Just normalization for validation\n",
        "data_transforms = {\n",
        "    'train': transforms.Compose([\n",
        "        transforms.RandomRotation(5),\n",
        "        transforms.RandomHorizontalFlip(),\n",
        "        transforms.RandomResizedCrop(224, scale=(0.96, 1.0), ratio=(0.95, 1.05)),\n",
        "        transforms.ToTensor(),\n",
        "        transforms.Normalize([0.485, 0.456, 0.406], [0.229, 0.224, 0.225])\n",
        "    ]),\n",
        "    'val': transforms.Compose([\n",
        "        transforms.Resize([224,224]),\n",
        "        transforms.ToTensor(),\n",
        "        transforms.Normalize([0.485, 0.456, 0.406], [0.229, 0.224, 0.225])\n",
        "    ]),\n",
        "}"
      ],
      "execution_count": 0,
      "outputs": []
    },
    {
      "metadata": {
        "id": "MOt7RmGFaa-5",
        "colab_type": "code",
        "outputId": "34b818cb-9496-47b0-d85b-df4a9a187707",
        "colab": {
          "base_uri": "https://localhost:8080/",
          "height": 71
        }
      },
      "cell_type": "code",
      "source": [
        "data_dir = './data'\n",
        "CHECK_POINT_PATH = 'checkpoint.tar'\n",
        "SUBMISSION_FILE = 'submission.csv'\n",
        "image_datasets = {x: datasets.ImageFolder(os.path.join(data_dir, x),\n",
        "                                          data_transforms[x])\n",
        "                  for x in ['train', 'val']}\n",
        "dataloaders = {x: torch.utils.data.DataLoader(image_datasets[x], batch_size=4,\n",
        "                                              shuffle=True, num_workers=4)\n",
        "              for x in ['train', 'val']}\n",
        "dataset_sizes = {x: len(image_datasets[x]) for x in ['train', 'val']}\n",
        "class_names = image_datasets['train'].classes\n",
        "\n",
        "device = torch.device(\"cuda:0\" if torch.cuda.is_available() else \"cpu\")\n",
        "\n",
        "print(class_names) # => ['cats', 'dogs']\n",
        "print('Train image size: ', dataset_sizes[\"train\"])\n",
        "print('Validation image size: ', dataset_sizes[\"val\"])"
      ],
      "execution_count": 0,
      "outputs": [
        {
          "output_type": "stream",
          "text": [
            "['cats', 'dogs']\n",
            "Train image size:  23000\n",
            "Validation image size:  2000\n"
          ],
          "name": "stdout"
        }
      ]
    },
    {
      "metadata": {
        "id": "52myQ7p8aa_B",
        "colab_type": "code",
        "outputId": "64d0192a-220c-432d-9a7c-c8bdf98a3495",
        "colab": {
          "base_uri": "https://localhost:8080/",
          "height": 148
        }
      },
      "cell_type": "code",
      "source": [
        "def imshow(inp, title=None):\n",
        "    \"\"\"Imshow for Tensor.\"\"\"\n",
        "    inp = inp.numpy().transpose((1, 2, 0))\n",
        "    mean = np.array([0.485, 0.456, 0.406])\n",
        "    std = np.array([0.229, 0.224, 0.225])\n",
        "    inp = std * inp + mean\n",
        "    inp = np.clip(inp, 0, 1)\n",
        "    plt.imshow(inp)\n",
        "    if title is not None:\n",
        "        plt.title(title)\n",
        "    plt.pause(0.001)  # pause a bit so that plots are updated\n",
        "\n",
        "# Get a batch of training data\n",
        "inputs, classes = next(iter(dataloaders['train']))\n",
        "\n",
        "# Make a grid from batch\n",
        "sample_train_images = torchvision.utils.make_grid(inputs)\n",
        "\n",
        "imshow(sample_train_images, title=str(classes))"
      ],
      "execution_count": 51,
      "outputs": [
        {
          "output_type": "display_data",
          "data": {
            "image/png": "[encoded data removed]",
            "text/plain": [
              "<Figure size 432x288 with 1 Axes>"
            ]
          },
          "metadata": {
            "tags": []
          }
        }
      ]
    },
    {
      "metadata": {
        "id": "fnYYsvyIaa_K",
        "colab_type": "text"
      },
      "cell_type": "markdown",
      "source": [
        "## Функции, которые реализуют обучение модели"
      ]
    },
    {
      "metadata": {
        "id": "k94DMr4Gaa_L",
        "colab_type": "code",
        "colab": {}
      },
      "cell_type": "code",
      "source": [
        "def train_model(model, criterion, optimizer, scheduler, num_epochs=2, checkpoint = None):\n",
        "    since = time.time()\n",
        "\n",
        "    if checkpoint is None:\n",
        "        best_model_wts = copy.deepcopy(model.state_dict())\n",
        "        best_loss = math.inf\n",
        "        best_acc = 0.\n",
        "    else:\n",
        "        print('Val loss: ', checkpoint[\"best_val_loss\"], ', Val accuracy: ', checkpoint[\"best_val_accuracy\"])\n",
        "        model.load_state_dict(checkpoint['model_state_dict'])\n",
        "        best_model_wts = copy.deepcopy(model.state_dict())\n",
        "        optimizer.load_state_dict(checkpoint['optimizer_state_dict'])\n",
        "        scheduler.load_state_dict(checkpoint['scheduler_state_dict'])\n",
        "        best_loss = checkpoint['best_val_loss']\n",
        "        best_acc = checkpoint['best_val_accuracy']\n",
        "\n",
        "    for epoch in range(num_epochs):\n",
        "        print('Epoch {}/{}'.format(epoch, num_epochs - 1))\n",
        "        print('-' * 10)\n",
        "\n",
        "        # Each epoch has a training and validation phase\n",
        "        for phase in ['train', 'val']:\n",
        "            if phase == 'train':\n",
        "                scheduler.step()\n",
        "                model.train()  # Set model to training mode\n",
        "            else:\n",
        "                model.eval()   # Set model to evaluate mode\n",
        "\n",
        "            running_loss = 0.0\n",
        "            running_corrects = 0\n",
        "\n",
        "            # Iterate over data.\n",
        "            for i, (inputs, labels) in enumerate(dataloaders[phase]):\n",
        "                inputs = inputs.to(device)\n",
        "                labels = labels.to(device)\n",
        "                \n",
        "                # zero the parameter gradients\n",
        "                optimizer.zero_grad()\n",
        "                \n",
        "                if i % 200 == 199:\n",
        "                    print('[%d, %d] loss: %.3f' % \n",
        "                          (epoch + 1, i, running_loss / (i * inputs.size(0))))\n",
        "\n",
        "                # forward\n",
        "                # track history if only in train\n",
        "                with torch.set_grad_enabled(phase == 'train'):\n",
        "                    outputs = model(inputs)\n",
        "                    _, preds = torch.max(outputs, 1)\n",
        "                    loss = criterion(outputs, labels)\n",
        "\n",
        "                    # backward + optimize only if in training phase\n",
        "                    if phase == 'train':\n",
        "                        loss.backward()\n",
        "                        optimizer.step()\n",
        "\n",
        "                # statistics\n",
        "                running_loss += loss.item() * inputs.size(0)\n",
        "                running_corrects += torch.sum(preds == labels.data)\n",
        "\n",
        "            epoch_loss = running_loss / dataset_sizes[phase]\n",
        "            epoch_acc = running_corrects.double() / dataset_sizes[phase]\n",
        "\n",
        "            print('{} Loss: {:.4f} Acc: {:.4f}'.format(phase, epoch_loss, epoch_acc))\n",
        "\n",
        "            # deep copy the model\n",
        "            if phase == 'val' and epoch_loss < best_loss:\n",
        "                print('New best model found!')\n",
        "                print('New record loss: ', epoch_loss, ', previous record loss: ', best_loss)\n",
        "                best_loss = epoch_loss\n",
        "                best_acc = epoch_acc\n",
        "                best_model_wts = copy.deepcopy(model.state_dict())\n",
        "\n",
        "    print()\n",
        "\n",
        "    time_elapsed = time.time() - since\n",
        "    print('Training complete in {:.0f}m {:.0f}s'.format(\n",
        "        time_elapsed // 60, time_elapsed % 60))\n",
        "    print('Best val Acc: {:.4f} Best val loss: {:.4f}'.format(best_acc, best_loss))\n",
        "\n",
        "    # load best model weights\n",
        "    model.load_state_dict(best_model_wts)\n",
        "    return model, best_loss, best_acc"
      ],
      "execution_count": 0,
      "outputs": []
    },
    {
      "metadata": {
        "id": "ByC1Iihuaa_P",
        "colab_type": "text"
      },
      "cell_type": "markdown",
      "source": [
        "## Функция для визуализации модели"
      ]
    },
    {
      "metadata": {
        "id": "exLRs0coaa_Q",
        "colab_type": "code",
        "colab": {}
      },
      "cell_type": "code",
      "source": [
        "def visualize_model(model, num_images=6):\n",
        "    was_training = model.training\n",
        "    model.eval()\n",
        "    images_so_far = 0\n",
        "    fig = plt.figure()\n",
        "    \n",
        "    with torch.no_grad():\n",
        "        for i, (inputs, labels) in enumerate(dataloaders['val']):\n",
        "            inputs = inputs.to(device)\n",
        "            labels = labels.to(device)\n",
        "\n",
        "            outputs = model(inputs)\n",
        "            _, preds = torch.max(outputs, 1)\n",
        "\n",
        "            for j in range(inputs.size()[0]):\n",
        "                images_so_far += 1\n",
        "                ax = plt.subplot(num_images//2, 2, images_so_far)\n",
        "                ax.axis('off')\n",
        "                ax.set_title('predicted: {}'.format(class_names[preds[j]]))\n",
        "                imshow(inputs.cpu().data[j])\n",
        "\n",
        "                if images_so_far == num_images:\n",
        "                    model.train(mode=was_training)\n",
        "                    return\n",
        "            model.train(mode=was_training)"
      ],
      "execution_count": 0,
      "outputs": []
    },
    {
      "metadata": {
        "id": "I44Wf-7Maa_V",
        "colab_type": "text"
      },
      "cell_type": "markdown",
      "source": [
        "# Реализация №1: Полносвязанная сеть"
      ]
    },
    {
      "metadata": {
        "id": "wh_OVVlQ8FXk",
        "colab_type": "text"
      },
      "cell_type": "markdown",
      "source": [
        "Попробуйте запустить и посмотрите на точность предсказаний..."
      ]
    },
    {
      "metadata": {
        "id": "9VU4zKRBaa_W",
        "colab_type": "code",
        "colab": {}
      },
      "cell_type": "code",
      "source": [
        "# Convolutional neural network (two convolutional layers)\n",
        "class FCNet(nn.Module):\n",
        "    def __init__(self, num_classes=2):\n",
        "        super(FCNet, self).__init__()\n",
        "        self.fc1 = nn.Linear(224*224*3, 100)\n",
        "        self.fc2 = nn.Linear(100, num_classes)\n",
        "        \n",
        "    def forward(self, x):\n",
        "        out = x.reshape(x.size(0), -1)\n",
        "        out = self.fc1(out)\n",
        "        out = self.fc2(out)\n",
        "        return out\n",
        "\n",
        "model_fc = FCNet()"
      ],
      "execution_count": 0,
      "outputs": []
    },
    {
      "metadata": {
        "id": "HUm20ukbaa_b",
        "colab_type": "code",
        "colab": {}
      },
      "cell_type": "code",
      "source": [
        "model_fc = model_fc.to(device)\n",
        "criterion_fc = nn.CrossEntropyLoss()\n",
        "optimizer_fc = optim.SGD(model_fc.parameters(), lr=0.001, momentum=0.9)\n",
        "\n",
        "# Decay LR by a factor of 0.1 every 7 epochs\n",
        "exp_lr_scheduler = lr_scheduler.StepLR(optimizer_fc, step_size=7, gamma=0.1)"
      ],
      "execution_count": 0,
      "outputs": []
    },
    {
      "metadata": {
        "id": "8S2txVumaa_e",
        "colab_type": "code",
        "colab": {}
      },
      "cell_type": "code",
      "source": [
        "model_fc, best_val_loss, best_val_acc = train_model(model_fc,\n",
        "                                                    criterion_fc,\n",
        "                                                    optimizer_fc,\n",
        "                                                    exp_lr_scheduler,\n",
        "                                                    num_epochs = 3,\n",
        "                                                    checkpoint = None)\n",
        "\n",
        "torch.save({'model_state_dict': model_fc.state_dict(),\n",
        "            'optimizer_state_dict': optimizer_fc.state_dict(),\n",
        "            'best_val_loss': best_val_loss,\n",
        "            'best_val_accuracy': best_val_acc,\n",
        "            'scheduler_state_dict' : exp_lr_scheduler.state_dict(),\n",
        "            }, CHECK_POINT_PATH)"
      ],
      "execution_count": 0,
      "outputs": []
    },
    {
      "metadata": {
        "id": "kB7c9Wvr3b2b",
        "colab_type": "text"
      },
      "cell_type": "markdown",
      "source": [
        "# Реализация №2: Набросок для конволюции"
      ]
    },
    {
      "metadata": {
        "id": "c3ibD4kf8KlT",
        "colab_type": "text"
      },
      "cell_type": "markdown",
      "source": [
        "Попробуйте создать сеть, которая будет иметь точность предсказания больше 70%"
      ]
    },
    {
      "metadata": {
        "id": "T4t092PV3fAl",
        "colab_type": "code",
        "colab": {}
      },
      "cell_type": "code",
      "source": [
        "# Convolutional neural network (two convolutional layers)\n",
        "class ConvNet(nn.Module):\n",
        "    def __init__(self, num_classes=2):\n",
        "        super(ConvNet, self).__init__()\n",
        "        self.layer1 = nn.Sequential(\n",
        "            nn.Conv2d(3, ???, kernel_size=5, stride=1, padding=2),\n",
        "            nn.ReLU(),\n",
        "            nn.MaxPool2d(kernel_size=2, stride=2))\n",
        "        #########################\n",
        "        # ...\n",
        "        # Допишите сюда ваши слои\n",
        "        # ...\n",
        "        #########################\n",
        "        self.fc = nn.Linear( ??? * ??? *32, num_classes)\n",
        "        \n",
        "    def forward(self, x):\n",
        "        out = self.layer1(x)\n",
        "        out = self.layer2(out)\n",
        "        #########################\n",
        "        # ...\n",
        "        # Допишите сюда ваши слои\n",
        "        # ...\n",
        "        #########################\n",
        "        out = out.reshape(out.size(0), -1)\n",
        "        out = self.fc(out)\n",
        "        #print(out.shape)\n",
        "        return out\n",
        "\n",
        "model_conv = ConvNet()"
      ],
      "execution_count": 0,
      "outputs": []
    },
    {
      "metadata": {
        "id": "MSSDMCiIaa_i",
        "colab_type": "text"
      },
      "cell_type": "markdown",
      "source": [
        "## Пример решения (около 60%)"
      ]
    },
    {
      "metadata": {
        "id": "Yk2MFmnX7Z7D",
        "colab_type": "text"
      },
      "cell_type": "markdown",
      "source": [
        "### Описание сети"
      ]
    },
    {
      "metadata": {
        "id": "zl46nrpZ7fmK",
        "colab_type": "text"
      },
      "cell_type": "markdown",
      "source": [
        "### Отправить модель на GPU и объявить подробности решения"
      ]
    },
    {
      "metadata": {
        "id": "Cp_-BRAIaa_l",
        "colab_type": "code",
        "colab": {}
      },
      "cell_type": "code",
      "source": [
        "model_conv = model_conv.to(device)\n",
        "criterion_conv = nn.CrossEntropyLoss()\n",
        "# Observe that only parameters of final layer are being optimized\n",
        "optimizer_conv = optim.SGD(model_conv.parameters(), lr=0.001, momentum=0.9)\n",
        "# Decay LR by a factor of 0.1 every 7 epochs\n",
        "exp_lr_scheduler = lr_scheduler.StepLR(optimizer_conv, step_size=7, gamma=0.1)"
      ],
      "execution_count": 0,
      "outputs": []
    },
    {
      "metadata": {
        "id": "-H3YVx-W7rm-",
        "colab_type": "text"
      },
      "cell_type": "markdown",
      "source": [
        "### Запустить решение сети"
      ]
    },
    {
      "metadata": {
        "id": "OzL1nxWtaa_s",
        "colab_type": "code",
        "outputId": "ad58489b-86ec-42a0-de67-59c0f2958ab5",
        "colab": {
          "base_uri": "https://localhost:8080/",
          "height": 1964
        }
      },
      "cell_type": "code",
      "source": [
        "model_conv, best_val_loss, best_val_acc = train_model(model_conv,\n",
        "                                                      criterion_conv,\n",
        "                                                      optimizer_conv,\n",
        "                                                      exp_lr_scheduler,\n",
        "                                                      num_epochs = 3,\n",
        "                                                      checkpoint = None)\n",
        "\n",
        "torch.save({'model_state_dict': model_conv.state_dict(),\n",
        "            'optimizer_state_dict': optimizer_conv.state_dict(),\n",
        "            'best_val_loss': best_val_loss,\n",
        "            'best_val_accuracy': best_val_acc,\n",
        "            'scheduler_state_dict' : exp_lr_scheduler.state_dict(),\n",
        "            }, CHECK_POINT_PATH)"
      ],
      "execution_count": 0,
      "outputs": [
        {
          "output_type": "stream",
          "text": [
            "Epoch 0/2\n",
            "----------\n",
            "[1, 199] loss: 0.711\n",
            "[1, 399] loss: 0.700\n",
            "[1, 599] loss: 0.689\n",
            "[1, 799] loss: 0.681\n",
            "[1, 999] loss: 0.677\n",
            "[1, 1199] loss: 0.669\n",
            "[1, 1399] loss: 0.664\n",
            "[1, 1599] loss: 0.660\n",
            "[1, 1799] loss: 0.658\n",
            "[1, 1999] loss: 0.655\n",
            "[1, 2199] loss: 0.653\n",
            "[1, 2399] loss: 0.652\n",
            "[1, 2599] loss: 0.647\n",
            "[1, 2799] loss: 0.644\n",
            "[1, 2999] loss: 0.643\n",
            "[1, 3199] loss: 0.641\n",
            "[1, 3399] loss: 0.636\n",
            "[1, 3599] loss: 0.633\n",
            "[1, 3799] loss: 0.631\n",
            "[1, 3999] loss: 0.630\n",
            "[1, 4199] loss: 0.628\n",
            "[1, 4399] loss: 0.626\n",
            "[1, 4599] loss: 0.625\n",
            "[1, 4799] loss: 0.623\n",
            "[1, 4999] loss: 0.621\n",
            "[1, 5199] loss: 0.618\n",
            "[1, 5399] loss: 0.618\n",
            "[1, 5599] loss: 0.616\n",
            "train Loss: 0.6156 Acc: 0.6649\n",
            "[1, 199] loss: 0.550\n",
            "[1, 399] loss: 0.566\n",
            "val Loss: 0.5705 Acc: 0.7130\n",
            "New best model found!\n",
            "New record loss:  0.5704694714248181 , previous record loss:  inf\n",
            "Epoch 1/2\n",
            "----------\n",
            "[2, 199] loss: 0.550\n",
            "[2, 399] loss: 0.535\n",
            "[2, 599] loss: 0.540\n",
            "[2, 799] loss: 0.554\n",
            "[2, 999] loss: 0.556\n",
            "[2, 1199] loss: 0.558\n",
            "[2, 1399] loss: 0.563\n",
            "[2, 1599] loss: 0.560\n",
            "[2, 1799] loss: 0.563\n",
            "[2, 1999] loss: 0.562\n",
            "[2, 2199] loss: 0.560\n",
            "[2, 2399] loss: 0.559\n",
            "[2, 2599] loss: 0.558\n",
            "[2, 2799] loss: 0.556\n",
            "[2, 2999] loss: 0.556\n",
            "[2, 3199] loss: 0.555\n",
            "[2, 3399] loss: 0.554\n",
            "[2, 3599] loss: 0.553\n",
            "[2, 3799] loss: 0.551\n",
            "[2, 3999] loss: 0.550\n",
            "[2, 4199] loss: 0.550\n",
            "[2, 4399] loss: 0.548\n",
            "[2, 4599] loss: 0.547\n",
            "[2, 4799] loss: 0.545\n",
            "[2, 4999] loss: 0.543\n",
            "[2, 5199] loss: 0.541\n",
            "[2, 5399] loss: 0.540\n",
            "[2, 5599] loss: 0.540\n",
            "train Loss: 0.5412 Acc: 0.7337\n",
            "[2, 199] loss: 0.543\n",
            "[2, 399] loss: 0.538\n",
            "val Loss: 0.5316 Acc: 0.7320\n",
            "New best model found!\n",
            "New record loss:  0.5316389524042606 , previous record loss:  0.5704694714248181\n",
            "Epoch 2/2\n",
            "----------\n",
            "[3, 199] loss: 0.549\n",
            "[3, 399] loss: 0.511\n",
            "[3, 599] loss: 0.509\n",
            "[3, 799] loss: 0.505\n",
            "[3, 999] loss: 0.510\n",
            "[3, 1199] loss: 0.512\n",
            "[3, 1399] loss: 0.512\n",
            "[3, 1599] loss: 0.513\n",
            "[3, 1799] loss: 0.514\n",
            "[3, 1999] loss: 0.512\n",
            "[3, 2199] loss: 0.512\n",
            "[3, 2399] loss: 0.512\n",
            "[3, 2599] loss: 0.512\n",
            "[3, 2799] loss: 0.511\n",
            "[3, 2999] loss: 0.510\n",
            "[3, 3199] loss: 0.509\n",
            "[3, 3399] loss: 0.509\n",
            "[3, 3599] loss: 0.508\n",
            "[3, 3799] loss: 0.506\n",
            "[3, 3999] loss: 0.504\n",
            "[3, 4199] loss: 0.503\n",
            "[3, 4399] loss: 0.502\n",
            "[3, 4599] loss: 0.502\n",
            "[3, 4799] loss: 0.503\n",
            "[3, 4999] loss: 0.502\n",
            "[3, 5199] loss: 0.501\n",
            "[3, 5399] loss: 0.500\n",
            "[3, 5599] loss: 0.499\n",
            "train Loss: 0.4996 Acc: 0.7615\n",
            "[3, 199] loss: 0.533\n",
            "[3, 399] loss: 0.546\n",
            "val Loss: 0.5602 Acc: 0.7400\n",
            "\n",
            "Training complete in 56m 5s\n",
            "Best val Acc: 0.7320 Best val loss: 0.5316\n"
          ],
          "name": "stdout"
        }
      ]
    },
    {
      "metadata": {
        "id": "xSN2BSDo7yAm",
        "colab_type": "text"
      },
      "cell_type": "markdown",
      "source": [
        "### Посмотреть предсказания сети"
      ]
    },
    {
      "metadata": {
        "id": "W0-EoKVY7yh6",
        "colab_type": "code",
        "colab": {
          "base_uri": "https://localhost:8080/",
          "height": 683
        },
        "outputId": "77d0b8a5-e87a-468f-a80d-25f89bd66605"
      },
      "cell_type": "code",
      "source": [
        "visualize_model(model_conv)\n",
        "\n",
        "plt.ioff()\n",
        "plt.show()"
      ],
      "execution_count": 53,
      "outputs": [
        {
          "output_type": "display_data",
          "data": {
            "image/png": "[encoded data removed]",
            "text/plain": [
              "<Figure size 432x288 with 1 Axes>"
            ]
          },
          "metadata": {
            "tags": []
          }
        },
        {
          "output_type": "display_data",
          "data": {
            "image/png": "[encoded data removed]",
            "text/plain": [
              "<Figure size 432x288 with 1 Axes>"
            ]
          },
          "metadata": {
            "tags": []
          }
        },
        {
          "output_type": "display_data",
          "data": {
            "image/png": "[encoded data removed]",
            "text/plain": [
              "<Figure size 432x288 with 1 Axes>"
            ]
          },
          "metadata": {
            "tags": []
          }
        },
        {
          "output_type": "display_data",
          "data": {
            "image/png": "[encoded data removed]",
            "text/plain": [
              "<Figure size 432x288 with 1 Axes>"
            ]
          },
          "metadata": {
            "tags": []
          }
        },
        {
          "output_type": "display_data",
          "data": {
            "image/png": "[encoded data removed]",
            "text/plain": [
              "<Figure size 432x288 with 1 Axes>"
            ]
          },
          "metadata": {
            "tags": []
          }
        },
        {
          "output_type": "display_data",
          "data": {
            "image/png": "[encoded data removed]",
            "text/plain": [
              "<Figure size 432x288 with 1 Axes>"
            ]
          },
          "metadata": {
            "tags": []
          }
        }
      ]
    },
    {
      "metadata": {
        "id": "joh6GgaVaa_j",
        "colab_type": "code",
        "colab": {}
      },
      "cell_type": "code",
      "source": [
        "# Convolutional neural network (two convolutional layers)\n",
        "class ConvNet(nn.Module):\n",
        "    def __init__(self, num_classes=2):\n",
        "        super(ConvNet, self).__init__()\n",
        "        self.layer1 = nn.Sequential(\n",
        "            nn.Conv2d(3, 8, kernel_size=5, stride=1, padding=3),\n",
        "            #nn.BatchNorm2d(16),\n",
        "            nn.ReLU(),\n",
        "            nn.MaxPool2d(kernel_size=2, stride=2))\n",
        "        self.layer2 = nn.Sequential(\n",
        "            nn.Conv2d(8, 4, kernel_size=5, stride=3, padding=2),\n",
        "            #nn.BatchNorm2d(32),\n",
        "            nn.ReLU(),\n",
        "            nn.MaxPool2d(kernel_size=2, stride=2))\n",
        "        self.fc = nn.Linear(56*56*4, num_classes)\n",
        "        \n",
        "    def forward(self, x):\n",
        "        #print(x.shape)\n",
        "        out = self.layer1(x)\n",
        "        #print(out.shape)\n",
        "        out = self.layer2(out)\n",
        "        #print(out.shape)\n",
        "        out = out.reshape(out.size(0), -1)\n",
        "        #print(out.shape)\n",
        "        out = self.fc(out)\n",
        "        return out\n",
        "\n",
        "model_conv = ConvNet()"
      ],
      "execution_count": 0,
      "outputs": []
    },
    {
      "metadata": {
        "id": "E7D926Wtaa_z",
        "colab_type": "text"
      },
      "cell_type": "markdown",
      "source": [
        "# ResNet50"
      ]
    },
    {
      "metadata": {
        "id": "uTwnSdDTaa_0",
        "colab_type": "code",
        "colab": {}
      },
      "cell_type": "code",
      "source": [
        "# model_resnet = torchvision.models.resnet50(pretrained=True)"
      ],
      "execution_count": 0,
      "outputs": []
    },
    {
      "metadata": {
        "id": "pxV7b90faa_3",
        "colab_type": "code",
        "colab": {}
      },
      "cell_type": "code",
      "source": [
        "for param in model_resnet.parameters():\n",
        "    param.requires_grad = False\n",
        "\n",
        "# Parameters of newly constructed modules have requires_grad=True by default\n",
        "num_ftrs = model_resnet.fc.in_features\n",
        "model_resnet.fc = nn.Linear(num_ftrs, 2)\n",
        "\n",
        "model_resnet = model_resnet.to(device)\n",
        "\n",
        "criterion = nn.CrossEntropyLoss()\n",
        "\n",
        "# Observe that only parameters of final layer are being optimized\n",
        "optimizer_resnet = optim.SGD(model_resnet.fc.parameters(), lr=0.001, momentum=0.9)\n",
        "\n",
        "# Decay LR by a factor of 0.1 every 7 epochs\n",
        "exp_lr_scheduler = lr_scheduler.StepLR(optimizer_resnet, step_size=7, gamma=0.1)"
      ],
      "execution_count": 0,
      "outputs": []
    },
    {
      "metadata": {
        "id": "1sdMT9Rcaa_7",
        "colab_type": "code",
        "colab": {}
      },
      "cell_type": "code",
      "source": [
        "try:\n",
        "    checkpoint = torch.load(CHECK_POINT_PATH)\n",
        "    print(\"checkpoint loaded\")\n",
        "except:\n",
        "    checkpoint = None\n",
        "    print(\"checkpoint not found\")\n",
        "\n",
        "model_resnet, best_val_loss, best_val_acc = train_model(model_resnet,\n",
        "                                                      criterion,\n",
        "                                                      optimizer_resnet,\n",
        "                                                      exp_lr_scheduler,\n",
        "                                                      num_epochs = 3,\n",
        "                                                      checkpoint = checkpoint)\n",
        "\n",
        "torch.save({'model_state_dict': model_resnet.state_dict(),\n",
        "            'optimizer_state_dict': optimizer_resnet.state_dict(),\n",
        "            'best_val_loss': best_val_loss,\n",
        "            'best_val_accuracy': best_val_acc,\n",
        "            'scheduler_state_dict' : exp_lr_scheduler.state_dict(),\n",
        "            }, CHECK_POINT_PATH)"
      ],
      "execution_count": 0,
      "outputs": []
    },
    {
      "metadata": {
        "id": "0xuQ6ycTabAB",
        "colab_type": "code",
        "colab": {}
      },
      "cell_type": "code",
      "source": [
        "for param in model_resnet.parameters():\n",
        "    param.requires_grad = True\n",
        "\n",
        "model_resnet = model_resnet.to(device)\n",
        "\n",
        "# Observe that all parameters are being optimized\n",
        "optimizer_resnet = optim.SGD(model_resnet.parameters(), lr=0.001, momentum=0.9)"
      ],
      "execution_count": 0,
      "outputs": []
    },
    {
      "metadata": {
        "id": "oGFxr6LsabAE",
        "colab_type": "text"
      },
      "cell_type": "markdown",
      "source": [
        "# Валидация"
      ]
    },
    {
      "metadata": {
        "id": "hAD6tyDFabAF",
        "colab_type": "code",
        "colab": {}
      },
      "cell_type": "code",
      "source": [
        "visualize_model(model_resnet)\n",
        "\n",
        "plt.ioff()\n",
        "plt.show()"
      ],
      "execution_count": 0,
      "outputs": []
    }
  ]
}
